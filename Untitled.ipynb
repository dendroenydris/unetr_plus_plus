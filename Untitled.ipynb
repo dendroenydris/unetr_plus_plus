{
 "cells": [
  {
   "cell_type": "code",
   "execution_count": 1,
   "id": "0b94e9bf-6d6a-4ae0-bc1b-25127fd87262",
   "metadata": {
    "tags": []
   },
   "outputs": [],
   "source": [
    "import numpy as np"
   ]
  }
 ],
 "metadata": {
  "kernelspec": {
   "display_name": "unetr_pp",
   "language": "python",
   "name": "unetr_pp"
  },
  "language_info": {
   "codemirror_mode": {
    "name": "ipython",
    "version": 3
   },
   "file_extension": ".py",
   "mimetype": "text/x-python",
   "name": "python",
   "nbconvert_exporter": "python",
   "pygments_lexer": "ipython3",
   "version": "3.10.12"
  }
 },
 "nbformat": 4,
 "nbformat_minor": 5
}
